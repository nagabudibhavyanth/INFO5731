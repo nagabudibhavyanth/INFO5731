{
 "cells": [
  {
   "cell_type": "markdown",
   "metadata": {
    "id": "view-in-github"
   },
   "source": [
    "<a href=\"https://colab.research.google.com/github/unt-iialab/INFO5731_Spring2020/blob/master/Assignments/INFO5731_Assignment_One.ipynb\" target=\"_parent\"><img src=\"https://colab.research.google.com/assets/colab-badge.svg\" alt=\"Open In Colab\"/></a>"
   ]
  },
  {
   "cell_type": "markdown",
   "metadata": {
    "id": "Ryk8D1Q4Wsrp"
   },
   "source": [
    "# **INFO5731 Assignment One**"
   ]
  },
  {
   "cell_type": "markdown",
   "metadata": {
    "id": "qcP6re2g5A5r"
   },
   "source": [
    "This assignment includes range of programming tasks and data analysis exercises, aiming to enhance your Python skills and proficiency in string manipulation, numerical computations, and data science. Follow the instructions carefully and design well-structured Python programs to address each question.\n",
    "\n",
    "Late Submission will have a penalty of 10% reduction for each day after the deadline."
   ]
  },
  {
   "cell_type": "markdown",
   "metadata": {
    "id": "JkzR8cFAyGik"
   },
   "source": [
    "# Question 1 (10 points).\n",
    "\n",
    "The formula that describes the volume V of a hemisphere with radius r is the following:\n",
    "\n",
    "$ V=\\frac{2}{3}\\ast\\ \\pi\\ast\\ r^3 $\n",
    "\n",
    "Write a program to calculate the value of V when r is in the range of even numbers from 1-20. Output the result in the following format:\n",
    "\n",
    "\tr\tV\n",
    "\t2\t…\n",
    "\t4\t…\n",
    "\t6\t…\n",
    "\t.\n",
    "\t.\n",
    "\t.\n",
    "\t20\t…\n"
   ]
  },
  {
   "cell_type": "code",
   "execution_count": 1,
   "metadata": {
    "id": "jDyTKYs-yGit"
   },
   "outputs": [
    {
     "name": "stdout",
     "output_type": "stream",
     "text": [
      "2\n",
      "34\n",
      "r\tV\n",
      "2\t16.746666666666666\n",
      "3\t56.519999999999996\n",
      "4\t133.97333333333333\n",
      "5\t261.6666666666667\n",
      "6\t452.15999999999997\n",
      "7\t718.0133333333333\n",
      "8\t1071.7866666666666\n",
      "9\t1526.04\n",
      "10\t2093.3333333333335\n",
      "11\t2786.2266666666665\n",
      "12\t3617.2799999999997\n",
      "13\t4599.053333333333\n",
      "14\t5744.106666666667\n",
      "15\t7065.0\n",
      "16\t8574.293333333333\n",
      "17\t10284.546666666667\n",
      "18\t12208.32\n",
      "19\t14358.173333333332\n",
      "20\t16746.666666666668\n",
      "21\t19386.36\n",
      "22\t22289.81333333333\n",
      "23\t25469.586666666666\n",
      "24\t28938.239999999998\n",
      "25\t32708.333333333332\n",
      "26\t36792.426666666666\n",
      "27\t41203.08\n",
      "28\t45952.85333333333\n",
      "29\t51054.306666666664\n",
      "30\t56520.0\n",
      "31\t62362.49333333333\n",
      "32\t68594.34666666666\n",
      "33\t75228.12\n",
      "34\t82276.37333333334\n"
     ]
    }
   ],
   "source": [
    "# Your code here\n",
    "n1 = int(input())\n",
    "n2 = int(input())\n",
    "PI = 3.14\n",
    "print(\"r\", \"V\", sep = \"\\t\")\n",
    "for r in range(n1, n2 + 1):\n",
    "    v = (2 / 3) * PI * (r ** 3)\n",
    "    print(r, v, sep = \"\\t\")"
   ]
  },
  {
   "cell_type": "markdown",
   "metadata": {
    "id": "90_NR8c5XGWc"
   },
   "source": [
    "# Question 2 (20 points)\n",
    "\n",
    "(a) Write a Python program to generate a sequence of 12 random numbers falling within the range of 50 to 150.\n",
    "\n",
    "(b) Arrange the generated numbers in ascending order. Display the sorted list.\n",
    "\n",
    "(c) Extend the program to arrange the numbers in descending order as well. Present the sorted list accordingly.\n",
    "\n",
    "(d) Compute and output the average of the entire group of generated numbers.\n",
    "\n",
    "(e) Enhance the program to calculate and display the average of the first 6 numbers from both the ascending and descending sorted lists."
   ]
  },
  {
   "cell_type": "code",
   "execution_count": 2,
   "metadata": {
    "id": "5QX6bJjGWXY9"
   },
   "outputs": [
    {
     "name": "stdout",
     "output_type": "stream",
     "text": [
      "a : [87, 126, 81, 119, 100, 70, 113, 138, 100, 126, 117, 75]\n",
      "b : [70, 75, 81, 87, 100, 100, 113, 117, 119, 126, 126, 138]\n",
      "c : [138, 126, 126, 119, 117, 113, 100, 100, 87, 81, 75, 70]\n",
      "d : 104.33333333333333\n",
      "e : Ascending Order => 85.5, Descending Order => 123.16666666666667\n"
     ]
    }
   ],
   "source": [
    "# Write code for each of the sub parts with proper comments.\n",
    "# a\n",
    "import random\n",
    "\n",
    "# a - Write a Python program to generate a sequence of 12 random numbers falling within the range of 50 to 150.\n",
    "generated = [random.choice(range(50, 150)) for i in range(12)]\n",
    "print(\"a :\", generated)\n",
    "\n",
    "# b - Arrange the generated numbers in ascending order. Display the sorted list.\n",
    "generated_sorted_asc = sorted(generated)\n",
    "print(\"b :\", generated_sorted_asc)\n",
    "\n",
    "# c - Extend the program to arrange the numbers in descending order as well. Present the sorted list accordingly.\n",
    "generated_sorted_desc = sorted(generated)[::-1]\n",
    "print(\"c :\", generated_sorted_desc)\n",
    "\n",
    "# d - Compute and output the average of the entire group of generated numbers.\n",
    "print(\"d :\", sum(generated) / 12)\n",
    "\n",
    "# e - Compute and output the average of the entire group of generated numbers.\n",
    "print(f\"e : Ascending Order => {sum(generated_sorted_asc[:6])/6}, Descending Order => {sum(generated_sorted_desc[:6])/6}\")"
   ]
  },
  {
   "cell_type": "markdown",
   "metadata": {
    "id": "1F_PZdH9Sh49"
   },
   "source": [
    "# Question 3 (20 points).\n",
    "\n",
    "Create a Python program that encompasses various string manipulation task:\n",
    "\n",
    "(a) Prompt the user to input two sentences.\n",
    "\n",
    "(b) Transform each sentence into a list, where each element corresponds to a word in the sentence. For example, if the sentences are \"Hello, how are you doing today?\" and \"This is an example sentence for the program!\"\n",
    "\n",
    "The program should output:\n",
    "['Hello', ',', 'how', 'are', 'you', 'doing', 'today', '?', 'This', 'is', 'an', 'example', 'sentence', 'for', 'the', 'program', '!']\n",
    "\n",
    "(c) Compare the two sentences. Print out a list of words that occur in both sentences.\n",
    "\n",
    "(d) Remove any punctuation from the sentence and print the sanitized sentences. It should remove at least the following characters, but it can remove more: period(“.”), comma (“,”), semicolon (“;”), and colon (“:”).\n",
    "\n",
    "(e) Count the number of vowels in each of the sentences. Print out each vowel and the occurrences  in the each of the two sentences separately, such as:\n",
    "\n",
    "Sentence1: a:2, e:2, i:0, etc.\n",
    "Sentence2: a:1, e:2, i:2, etc.\n",
    "\n",
    "Design a well-structured Python program to execute these tasks efficiently."
   ]
  },
  {
   "cell_type": "code",
   "execution_count": 3,
   "metadata": {
    "id": "Y0oOSlsOS0cq"
   },
   "outputs": [
    {
     "name": "stdout",
     "output_type": "stream",
     "text": [
      "Enter the sentence1 :Hello, how are you doing today ?\n",
      "Enter the sentence2 :This is an example sentence for the program with how to do details !\n",
      "Hello, how are you doing today ?\n",
      "This is an example sentence for the program with how to do details !\n",
      "['Hello,', 'how', 'are', 'you', 'doing', 'today', '?']\n",
      "['This', 'is', 'an', 'example', 'sentence', 'for', 'the', 'program', 'with', 'how', 'to', 'do', 'details', '!']\n",
      "['how']\n",
      "Hello how are you doing today \n",
      "This is an example sentence for the program with how to do details \n",
      "{'a': 2, 'e': 2, 'i': 1, 'o': 5, 'u': 1} {'a': 4, 'e': 7, 'i': 4, 'o': 5, 'u': 0}\n"
     ]
    }
   ],
   "source": [
    "# Your code here\n",
    "\n",
    "# a - Prompt the user to input two sentences.\n",
    "sentence1 = input(\"Enter the sentence1 :\")\n",
    "sentence2 = input(\"Enter the sentence2 :\")\n",
    "print(sentence1)\n",
    "print(sentence2)\n",
    "\n",
    "# b - Transform each sentence into a list, where each element corresponds to a word in the sentence.\n",
    "words1 = sentence1.split(\" \")\n",
    "words2 = sentence2.split(\" \")\n",
    "print(words1)\n",
    "print(words2)\n",
    "\n",
    "# c - Compare the two sentences. Print out a list of words that occur in both sentences.\n",
    "common = [word for word in words1 if(word in words2)]\n",
    "print(common)\n",
    "\n",
    "# d - Remove any punctuation from the sentence and print the sanitized sentences.\n",
    "for i in \".,;:?!\":\n",
    "    sentence1 = sentence1.replace(i, \"\")\n",
    "    sentence2 = sentence2.replace(i, \"\")\n",
    "print(sentence1)\n",
    "print(sentence2)\n",
    "\n",
    "sentence1_vowels = {}\n",
    "sentence2_vowels = {}\n",
    "for vowel in \"aeiou\":\n",
    "    sentence1_vowels[vowel] = sentence1.count(vowel)\n",
    "    sentence2_vowels[vowel] = sentence2.count(vowel)\n",
    "print(sentence1_vowels, sentence2_vowels)"
   ]
  },
  {
   "cell_type": "markdown",
   "metadata": {
    "id": "OP4-5qxAtInv"
   },
   "source": [
    "# Question 4 (20 Points)"
   ]
  },
  {
   "cell_type": "markdown",
   "metadata": {
    "id": "uzN4_hDptK9U"
   },
   "source": [
    "Design and implement a simple command-line calculator program. The program should handle both integers and floating-point numbers.\n",
    "\n",
    "(a) Write program that takes a mathematical expression as input and evaluates it. The program should support addition, subtraction, multiplication, and division.\n",
    "\n",
    "(b) Extend the calculator to handle parentheses in mathematical expressions. Implement the necessary logic to evaluate expressions with nested parentheses.\n",
    "\n",
    "(c) Enhance your calculator to include additional mathematical operations such as exponentiation, square root, and modulus.\n",
    "\n",
    "(d) Implement error handling in the calculator program. Handle cases such as division by zero and invalid input expressions. Provide meaningful error messages.\n",
    "\n",
    "(e) Implement a command to exit the calculator."
   ]
  },
  {
   "cell_type": "code",
   "execution_count": 4,
   "metadata": {
    "id": "8nQnVxjJuYtu"
   },
   "outputs": [
    {
     "name": "stdout",
     "output_type": "stream",
     "text": [
      "Enter an Expression :2 + 3 * sqrt(50) + ((3 + 6) * 9 % 3)\n",
      "Resut : 23.213203435596427\n"
     ]
    }
   ],
   "source": [
    "# Your code here\n",
    "import math\n",
    "\n",
    "def execute_exp(exp):\n",
    "    return eval(exp)\n",
    "\n",
    "def replace_sqrt(exp):\n",
    "    return exp.replace(\"sqrt\", \"math.sqrt\")\n",
    "\n",
    "exp = input(\"Enter an Expression :\")\n",
    "exp = replace_sqrt(exp)\n",
    "try :\n",
    "    print(\"Resut :\", execute_exp(exp))\n",
    "except SyntaxError as se :\n",
    "    print(f\"Check the Expression Syntax - {exp}, Info : {se}\")"
   ]
  },
  {
   "cell_type": "markdown",
   "metadata": {
    "id": "z3tBE7E-Xn5X"
   },
   "source": [
    "# Question 5 (30 points).\n",
    "\n",
    "In the field of Data Science, data is often formatted as a comma-delimited (CSV) file, where each line in a file corresponds to a field's value. Refer to Chapter 9 (p. 106) for more information on comma-delimited files.\n",
    "\n",
    "To answer this question, you will need to download the file [Assignment1_denton_housing.csv](https://raw.githubusercontent.com/unt-iialab/info5731-spring2022/main/assignments/Assignment1_denton_housing.csv) included with this assignment. The file contains statistics about housing in the city of Denton from 2008 to 2014. Write a program to implement the following questions.\n",
    "\n",
    "(a) (5 pts) Calculate the difference in the number of Occupied Housing Units from year to year and print it. The difference must be calculated for the consecutive years such as 2008-2009, 2009-2010 etc. Finally, print the values in the ascending order.\n",
    "\n",
    "(b) (5 pts) For all the years, calculate the percentage of housing units which are vacant an occupied. Print the results in the following format:\n",
    "\n",
    "Year Vacant Housing Units Occupied Housing Units\n",
    "\n",
    "    2008  30%   70%                          \n",
    "\t2009 ----- -----\n",
    "\t2010 ----- -----\n",
    "    2011 ----- -----\n",
    "\t2012 ----- -----\n",
    "    2013 ----- -----\n",
    "\t2014 ----- -----\n",
    "  \n",
    "  \n",
    "\n",
    "(c) (10 pts) Calculate and print the valued and years in which the highest number of housing units were vacant and occupied. Print the results in the following format:  \n",
    "\n",
    "                              Year\tValue\n",
    "\tVacant Housing Units\t  -----   -----\n",
    "\tOccupied Housing Units\t-----   -----\n",
    "\n",
    "(d) (10 pts) Calculate the harmonic mean of the total housing units and print it out. You can find the information about harmonic mean here: https://ncalculators.com/statistics/harmonic-mean-calculator.htm"
   ]
  },
  {
   "cell_type": "code",
   "execution_count": 5,
   "metadata": {
    "id": "lqGYuHBhcsRH"
   },
   "outputs": [
    {
     "name": "stdout",
     "output_type": "stream",
     "text": [
      "Year\tVacant Housing Units\tOccupied Housing Units\n",
      "------------------------------------------------------\n",
      "2014\t\t5.73 %\t\t94.27 %\n",
      "2013\t\t8.8 %\t\t91.2 %\n",
      "2012\t\t6.68 %\t\t93.32 %\n",
      "2011\t\t9.38 %\t\t90.62 %\n",
      "2010\t\t8.14 %\t\t91.86 %\n",
      "2009\t\t9.07 %\t\t90.93 %\n",
      "2008\t\t10.88 %\t\t89.12 %\n",
      "------------------------------------------------------\n",
      "Type\t\t\tYear\tValue\n",
      "-------------------------------------\n",
      "Vacant Housing Unit's\t2008\t4483\n",
      "Occupied Housing Unit's\t2014\t46295\n",
      "[49109, 47888, 45121, 44917, 44642, 39499, 41194]\n",
      "Harminic Mean = n/sum(i/x)\n",
      "Harmonic Mean of Total Housing Unit's : 44398.29\n"
     ]
    }
   ],
   "source": [
    " # Your code here\n",
    "\n",
    "def convertToInt(n):\n",
    "    return int(n)\n",
    "\n",
    "with open(\"Assignment1_denton_housing-1.csv\", \"r\") as csv_reader :\n",
    "    data = [line.replace(\"\\n\", \"\") for line in csv_reader.readlines()]\n",
    "differences = {}\n",
    "occupied = [i for i in data if(\"Occupied Housing Units\" in i)]\n",
    "vacant = [i for i in data if(\"Vacant Housing Units\" in i)]\n",
    "for i in range(1, len(occupied) - 1):\n",
    "    year1, year2 = occupied[i].split(\",\"), occupied[i+1].split(\",\")\n",
    "    values = sorted([convertToInt(year1[-1]), convertToInt(year2[-1])])\n",
    "    differences[f\"{year1[0]} - {year2[0]}\"] = values[1] - values[0]\n",
    "\n",
    "print(\"Year\\tVacant Housing Units\\tOccupied Housing Units\")\n",
    "print(\"-\" * 54)\n",
    "vac_max, occ_max = [0, 0], [0, 0]\n",
    "total_housing_units = []\n",
    "for occ, vac in zip(occupied, vacant):\n",
    "    occ, vac = occ.split(\",\"), vac.split(\",\")\n",
    "    print(occ[0], f\"{round(int(vac[-1]) / (int(occ[-1]) + int(vac[-1])) * 100, 2)} %\", f\"{round(int(occ[-1]) / (int(occ[-1]) + int(vac[-1])) * 100, 2)} %\", sep = \"\\t\\t\")\n",
    "    if(int(vac[-1]) > vac_max[1]):\n",
    "        vac_max = [vac[0], int(vac[-1])]\n",
    "    if(int(occ[-1]) > occ_max[1]):\n",
    "        occ_max = [occ[0], int(occ[-1])]\n",
    "    total_housing_units.append(int(occ[-1]) + int(vac[-1]))\n",
    "print(\"-\" * 54)\n",
    "print(\"Type\\t\\t\\tYear\\tValue\")\n",
    "print(\"-\" * 37)\n",
    "print(\"Vacant Housing Unit's\", vac_max[0], vac_max[-1], sep = \"\\t\")\n",
    "print(\"Occupied Housing Unit's\", occ_max[0],  occ_max[-1], sep = \"\\t\")\n",
    "print(total_housing_units)\n",
    "print(\"Harminic Mean = n/sum(i/x)\")\n",
    "total_housing_units_hm = [1/x for x in total_housing_units]\n",
    "print(f\"Harmonic Mean of Total Housing Unit's : {round(len(total_housing_units_hm) / sum(total_housing_units_hm), 2)}\")"
   ]
  },
  {
   "cell_type": "markdown",
   "metadata": {
    "id": "q8BFCvWp32cf"
   },
   "source": [
    "# Mandatory Question\n",
    "\n",
    "Provide your thoughts on the assignment. What did you find challenging, and what aspects did you enjoy? Your opinion on the provided time to complete the assignment. Share any suggestions for improvement. Your feedback will be valuable for enhancing the learning experience."
   ]
  },
  {
   "cell_type": "code",
   "execution_count": 6,
   "metadata": {
    "id": "_e557s2w4BpK"
   },
   "outputs": [
    {
     "name": "stdout",
     "output_type": "stream",
     "text": [
      "The tasks that are given in this assessment are really good and it covers the concept of Strings in intermediate level.\n",
      "I enjoyed loading the data from CSV and applying some logic on the Data\n",
      "I like and looking forward to solve such kind of Practical Problems\n"
     ]
    }
   ],
   "source": [
    "# Write your response below\n",
    "print(\"The tasks that are given in this assessment are really good and it covers the concept of Strings in intermediate level.\")\n",
    "print(\"I enjoyed loading the data from CSV and applying some logic on the Data\")\n",
    "print(\"I like and looking forward to solve such kind of Practical Problems\")"
   ]
  },
  {
   "cell_type": "code",
   "execution_count": null,
   "metadata": {},
   "outputs": [],
   "source": []
  }
 ],
 "metadata": {
  "colab": {
   "provenance": []
  },
  "kernelspec": {
   "display_name": "Python 3 (ipykernel)",
   "language": "python",
   "name": "python3"
  },
  "language_info": {
   "codemirror_mode": {
    "name": "ipython",
    "version": 3
   },
   "file_extension": ".py",
   "mimetype": "text/x-python",
   "name": "python",
   "nbconvert_exporter": "python",
   "pygments_lexer": "ipython3",
   "version": "3.10.9"
  }
 },
 "nbformat": 4,
 "nbformat_minor": 1
}
