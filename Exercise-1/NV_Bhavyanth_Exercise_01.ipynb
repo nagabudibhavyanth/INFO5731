{
 "cells": [
  {
   "cell_type": "markdown",
   "metadata": {
    "id": "view-in-github"
   },
   "source": [
    "<a href=\"https://colab.research.google.com/github/unt-iialab/INFO5731_Spring2020/blob/master/In_class_exercise/In_class_exercise_01.ipynb\" target=\"_parent\"><img src=\"https://colab.research.google.com/assets/colab-badge.svg\" alt=\"Open In Colab\"/></a>"
   ]
  },
  {
   "cell_type": "markdown",
   "metadata": {
    "id": "DymRJbxDBCnf"
   },
   "source": [
    "# **This first In-class-exercise cover a variety of fundamental concepts in Python and are designed to help individuals improve their coding skills and problem-solving abilities.**\n",
    "\n",
    "The submission is due on 01/31/2024 11:59 PM. This submission is worth 40 points in total.\n"
   ]
  },
  {
   "cell_type": "markdown",
   "metadata": {
    "id": "FBKvD6O_TY6e"
   },
   "source": [
    "(1) Write a Python program that  prompts the user to input the length and width of a rectangle, and then calculates and displays the area of the rectangle."
   ]
  },
  {
   "cell_type": "code",
   "execution_count": 1,
   "metadata": {
    "id": "cikVKDXdTbzE"
   },
   "outputs": [
    {
     "name": "stdout",
     "output_type": "stream",
     "text": [
      "Enter the length of a Rectangle :10\n",
      "Enter the width of a Rectangle :20\n",
      "The Area of Rectangle is : 200\n"
     ]
    }
   ],
   "source": [
    "# write your answer here\n",
    "length = int(input(\"Enter the length of a Rectangle :\"))\n",
    "breadth = int(input(\"Enter the width of a Rectangle :\"))\n",
    "print(\"The Area of Rectangle is :\", length * breadth)"
   ]
  },
  {
   "cell_type": "markdown",
   "metadata": {
    "id": "E9RqrlwdTfvl"
   },
   "source": [
    "(2) Create a Python program that interactively takes two numerical inputs from the user and swaps their values without utilizing an extra variable."
   ]
  },
  {
   "cell_type": "code",
   "execution_count": 2,
   "metadata": {
    "id": "4XvRknixTh1g"
   },
   "outputs": [
    {
     "name": "stdout",
     "output_type": "stream",
     "text": [
      "Enter the Number1 :20\n",
      "Enter the number2 :10\n",
      "The numbers before swapping - n1 : 20 & n2 : 10\n",
      "The numbers after swapping - n1 : 10 & n2 : 20\n"
     ]
    }
   ],
   "source": [
    "# write your answer here\n",
    "n1 = int(input(\"Enter the Number1 :\"))\n",
    "n2 = int(input(\"Enter the number2 :\"))\n",
    "print(f\"The numbers before swapping - n1 : {n1} & n2 : {n2}\")\n",
    "n1, n2 = n2, n1\n",
    "print(f\"The numbers after swapping - n1 : {n1} & n2 : {n2}\")"
   ]
  },
  {
   "cell_type": "markdown",
   "metadata": {
    "id": "03jb4GZsBkBS"
   },
   "source": [
    "(3) Write a Python script to determine and print the length of a user-input string."
   ]
  },
  {
   "cell_type": "code",
   "execution_count": 3,
   "metadata": {
    "id": "YaGLbSHHB8Ej"
   },
   "outputs": [
    {
     "name": "stdout",
     "output_type": "stream",
     "text": [
      "Enter some random text :hello hai\n",
      "The Length of the given random text - hello hai is : 9\n"
     ]
    }
   ],
   "source": [
    "# write your answer here\n",
    "data = input(\"Enter some random text :\")\n",
    "print(f\"The Length of the given random text - {data} is : {len(data)}\")"
   ]
  },
  {
   "cell_type": "markdown",
   "metadata": {
    "id": "jJDe71iLB616"
   },
   "source": [
    "(4) Construct a Python program that counts and displays the occurrences of each character in a given string.\n",
    "\n",
    "Sample String: 'openai.ai',\n",
    "\n",
    "Expected Result: {'a': 2, 'i': 2, '.': 1, 'o': 1, 'p': 1, 'e': 1, 'n': 1}"
   ]
  },
  {
   "cell_type": "code",
   "execution_count": 4,
   "metadata": {
    "id": "MtKskTzbCLaU"
   },
   "outputs": [
    {
     "name": "stdout",
     "output_type": "stream",
     "text": [
      "Enter a String :openai.ai\n",
      "{'a': 2, 'i': 2, '.': 1, 'n': 1, 'p': 1, 'o': 1, 'e': 1}\n"
     ]
    }
   ],
   "source": [
    "# write your answer here\n",
    "data = input(\"Enter a String :\")\n",
    "frequency_data = {i : data.count(i) for i in set(data)}\n",
    "print(frequency_data)"
   ]
  },
  {
   "cell_type": "markdown",
   "metadata": {
    "id": "55W9AMdXCSpV"
   },
   "source": [
    "(5) Design a Python code to calculate the sum of all elements in a user-provided list."
   ]
  },
  {
   "cell_type": "code",
   "execution_count": 5,
   "metadata": {
    "id": "I57NXsauCec2"
   },
   "outputs": [
    {
     "name": "stdout",
     "output_type": "stream",
     "text": [
      "Enter the numbers separated by space (Eg: 1 2 45 32) :10 20 133 43\n",
      "The sum of given list of numbers - [10, 20, 133, 43] is : 206\n"
     ]
    }
   ],
   "source": [
    "# write your answer here\n",
    "numbers = list(map(int, input(\"Enter the numbers separated by space (Eg: 1 2 45 32) :\").split()))\n",
    "print(f\"The sum of given list of numbers - {numbers} is : {sum(numbers)}\")"
   ]
  },
  {
   "cell_type": "markdown",
   "metadata": {
    "id": "4ulBZ6yhCi9F"
   },
   "source": [
    "(6) Write a Python program that modifies a given string by replacing all occurrences of its first character with '$', excluding the first character itself.\n",
    "\n",
    "\n",
    "Sample String : 'restart‘,\n",
    "\n",
    "Expected Result : 'resta\\$t'"
   ]
  },
  {
   "cell_type": "code",
   "execution_count": 6,
   "metadata": {
    "id": "Fj0XhwbBCw2o"
   },
   "outputs": [
    {
     "name": "stdout",
     "output_type": "stream",
     "text": [
      "Enter the string :restart\n",
      "The resultant string after replacing '$' is : resta$t\n"
     ]
    }
   ],
   "source": [
    "# write your answer here\n",
    "data = input(\"Enter the string :\")\n",
    "print(f\"The resultant string after replacing '$' is : {data[0] + data[1:].replace(data[0], '$')}\")"
   ]
  },
  {
   "cell_type": "markdown",
   "metadata": {
    "id": "qVXA3q7ET5JI"
   },
   "source": [
    "(7) Write a Python program using a while loop to compute the factorial of a user-supplied number."
   ]
  },
  {
   "cell_type": "code",
   "execution_count": 7,
   "metadata": {
    "id": "Lbt7R6UkT7BA"
   },
   "outputs": [
    {
     "name": "stdout",
     "output_type": "stream",
     "text": [
      "Enter a Number :10\n",
      "The Factorial of the given number 10 is : 3628800\n"
     ]
    }
   ],
   "source": [
    "# write your answer here\n",
    "n = tn = int(input(\"Enter a Number :\"))\n",
    "fact = 1\n",
    "while (tn > 0) :\n",
    "    fact *= tn\n",
    "    tn -= 1\n",
    "print(f\"The Factorial of the given number {n} is : {fact}\")"
   ]
  },
  {
   "cell_type": "markdown",
   "metadata": {
    "id": "6YfbzXMNT--R"
   },
   "source": [
    "(8) Create a program that accepts a list of numbers as input and outputs a new list containing only the even numbers."
   ]
  },
  {
   "cell_type": "code",
   "execution_count": 8,
   "metadata": {
    "id": "54q7wMQPUAKu"
   },
   "outputs": [
    {
     "name": "stdout",
     "output_type": "stream",
     "text": [
      "Enter the numbers separated by space (Eg: 1 2 45 32) :10 43 28 54 11\n",
      "The list of even numbers : [10, 28, 54]\n"
     ]
    }
   ],
   "source": [
    "# write your answer here\n",
    "data = list(map(int, input(\"Enter the numbers separated by space (Eg: 1 2 45 32) :\").split()))\n",
    "even_numbers = [i for i in data if(i % 2 == 0)]\n",
    "print(f\"The list of even numbers : {even_numbers}\")"
   ]
  },
  {
   "cell_type": "markdown",
   "metadata": {
    "id": "_bIP7s1MCzue"
   },
   "source": [
    "\n",
    "(9) Design a Python function to check if a number is prime.\n"
   ]
  },
  {
   "cell_type": "code",
   "execution_count": 9,
   "metadata": {
    "id": "w79QilHXD3Mg"
   },
   "outputs": [
    {
     "name": "stdout",
     "output_type": "stream",
     "text": [
      "Enter the number :17\n",
      "The given number - 17 is Prime\n"
     ]
    }
   ],
   "source": [
    "# write your answer here\n",
    "n = int(input(\"Enter the number :\"))\n",
    "isPrime = True\n",
    "for div in range(2, n // 2):\n",
    "    if(n % div == 0):\n",
    "        isPrime = False\n",
    "        break\n",
    "print(f\"The given number - {n} is {'Prime' if(isPrime) else 'Not Prime'}\")"
   ]
  },
  {
   "cell_type": "markdown",
   "metadata": {
    "id": "xCa2bK9aD4Q3"
   },
   "source": [
    "(10) Write a Python program to concatenate following dictionaries to create a new one.\n",
    "\n",
    "Sample Dictionary : dic1={1:10, 2:20}, dic2={3:30, 4:40}, dic3={5:50,6:60},\n",
    "\n",
    "Expected Result : {1: 10, 2: 20, 3: 30, 4: 40, 5: 50, 6: 60}\n"
   ]
  },
  {
   "cell_type": "code",
   "execution_count": 10,
   "metadata": {
    "id": "_z4aLqAbEET1"
   },
   "outputs": [
    {
     "name": "stdout",
     "output_type": "stream",
     "text": [
      "The resultant dictionary after merging the sub-dictionaries : {1: 10, 2: 20, 3: 30, 4: 40, 5: 50, 6: 60}\n"
     ]
    }
   ],
   "source": [
    "# write your answer here\n",
    "dic1, dic2, dic3 = {1:10, 2:20}, {3:30, 4:40}, {5:50,6:60}\n",
    "resultant_dict = {}\n",
    "for d in dic1, dic2, dic3:\n",
    "    for k in d:\n",
    "        resultant_dict[k] = d[k]\n",
    "print(f\"The resultant dictionary after merging the sub-dictionaries : {resultant_dict}\")"
   ]
  },
  {
   "cell_type": "markdown",
   "metadata": {
    "id": "bkyZ2xSZUOst"
   },
   "source": [
    "(11) Design a Python function that takes a tuple of integers as input and returns the largest and smallest elements."
   ]
  },
  {
   "cell_type": "code",
   "execution_count": 11,
   "metadata": {
    "id": "3FdLRBKOUQEd"
   },
   "outputs": [
    {
     "name": "stdout",
     "output_type": "stream",
     "text": [
      "Enter the numbers separated by space (Eg: 1 2 45 32) :10 34 -20 76\n",
      "The maximum and minimum values : (76, -20)\n"
     ]
    }
   ],
   "source": [
    "# write your answer here\n",
    "def return_min_max(data):\n",
    "    return max(data), min(data)\n",
    "\n",
    "data = list(map(int, input(\"Enter the numbers separated by space (Eg: 1 2 45 32) :\").split()))\n",
    "\n",
    "print(f\"The maximum and minimum values : {return_min_max(data)}\")"
   ]
  },
  {
   "cell_type": "markdown",
   "metadata": {
    "id": "O0TVi3gKUTpp"
   },
   "source": [
    "(12) Write a Python program that counts the frequency of each character in a given string and stores it in a dictionary."
   ]
  },
  {
   "cell_type": "code",
   "execution_count": 12,
   "metadata": {
    "id": "lAtfSfZXUU-h"
   },
   "outputs": [
    {
     "name": "stdout",
     "output_type": "stream",
     "text": [
      "Enter a String :hello hai how are you ?\n",
      "{'a': 2, 'h': 3, 'i': 1, 'l': 2, 'u': 1, 'r': 1, 'w': 1, '?': 1, ' ': 5, 'o': 3, 'e': 2, 'y': 1}\n"
     ]
    }
   ],
   "source": [
    "# write your answer here\n",
    "# write your answer here\n",
    "data = input(\"Enter a String :\")\n",
    "frequency_data = {i : data.count(i) for i in set(data)}\n",
    "print(frequency_data)"
   ]
  },
  {
   "cell_type": "markdown",
   "metadata": {
    "id": "0v48Vqa7FrQh"
   },
   "source": [
    "(13) Implement a Python script to identify duplicate elements in a provided array of integers. Return -1 if there are no duplicates."
   ]
  },
  {
   "cell_type": "code",
   "execution_count": 13,
   "metadata": {
    "id": "7WEmgq-DF2P1"
   },
   "outputs": [
    {
     "name": "stdout",
     "output_type": "stream",
     "text": [
      "Enter the numbers separated by space (Eg: 1 2 45 32) :10 45 32 21 20 32\n",
      "Result : [32]\n"
     ]
    }
   ],
   "source": [
    "# write your answer here\n",
    "def find_duplicates(data):\n",
    "    resultant_data = []\n",
    "    for item in set(data):\n",
    "        if(data.count(item) > 1):\n",
    "            resultant_data.append(item)\n",
    "    return resultant_data if(len(resultant_data)) else -1\n",
    "\n",
    "data = list(map(int, input(\"Enter the numbers separated by space (Eg: 1 2 45 32) :\").split()))\n",
    "print(f\"Result : {find_duplicates(data)}\")"
   ]
  },
  {
   "cell_type": "markdown",
   "metadata": {
    "id": "vD5PYLMuGga_"
   },
   "source": [
    "(14) Write a Python script to find the common elements between two lists."
   ]
  },
  {
   "cell_type": "code",
   "execution_count": 14,
   "metadata": {
    "id": "t0D5kdJUGjjw"
   },
   "outputs": [
    {
     "name": "stdout",
     "output_type": "stream",
     "text": [
      "Enter the numbers separated by space for List1 (Eg: 1 2 45 32) :10 34 52 12 76\n",
      "Enter the numbers separated by space for List1 (Eg: 1 2 45 32) :76 52 13 10\n",
      "[10, 52, 76]\n"
     ]
    }
   ],
   "source": [
    "# write your answer here\n",
    "num_list1 = list(map(int, input(\"Enter the numbers separated by space for List1 (Eg: 1 2 45 32) :\").split()))\n",
    "num_list2 = list(map(int, input(\"Enter the numbers separated by space for List1 (Eg: 1 2 45 32) :\").split()))\n",
    "common_elements = [i for i in num_list1 if(i in num_list2)]\n",
    "print(common_elements)"
   ]
  },
  {
   "cell_type": "markdown",
   "metadata": {
    "id": "uHkd-y5VhVWC"
   },
   "source": [
    "(15) Write a Python program to randomly divide the students in this class into six groups for term projects, each group should have at least 4 students but no more than 6 students (including 6).\n",
    "\n",
    "Here is the students list:\n",
    "\n",
    "student_list_spring_2024=[rb0846,\n",
    "ac1964,\n",
    "hc0612,\n",
    "md0912,\n",
    "ad1198,\n",
    "md0894,\n",
    "md0825,\n",
    "vg0598,\n",
    "vg0433,\n",
    "mh1068,\n",
    "yj0173,\n",
    "pk0553,\n",
    "tk0411,\n",
    "srk0204,\n",
    "sk2922,\n",
    "sk2936,\n",
    "mk1302,\n",
    "mk1317,\n",
    "tk0412,\n",
    "vk0656,\n",
    "sm2985,\n",
    "mm2372,\n",
    "un0045,\n",
    "an0892,\n",
    "sn0913,\n",
    "gp0252,\n",
    "ap1484,\n",
    "mr1765,\n",
    "sr1385,\n",
    "sr1335,\n",
    "hs0665,\n",
    "ms2060,\n",
    "gt0217,\n",
    "nt0385,\n",
    "tv0186,\n",
    "sv1394,\n",
    "sv1752,\n",
    "sv1555,\n",
    "sy0594\n",
    "]\n"
   ]
  },
  {
   "cell_type": "code",
   "execution_count": 15,
   "metadata": {
    "id": "3iGbmcOBhTwy"
   },
   "outputs": [
    {
     "name": "stdout",
     "output_type": "stream",
     "text": [
      "The random groups formed are : [['sy0594', 'sv1394', 'ac1964', 'mk1317', 'md0894'], ['an0892', 'ms2060', 'sn0913', 'srk0204', 'pk0553'], ['gt0217', 'ap1484', 'gp0252', 'vk0656', 'yj0173'], ['md0912', 'tk0411', 'sk2936', 'sr1385'], ['vg0433', 'hc0612', 'sm2985', 'nt0385'], ['md0825', 'sk2922', 'mr1765', 'rb0846'], ['sv1752', 'sr1335', 'tv0186', 'mk1302'], ['hs0665', 'ad1198', 'tk0412', 'mh1068'], ['un0045', 'sv1555', 'mm2372', 'vg0598']]\n"
     ]
    }
   ],
   "source": [
    "# write your answer here\n",
    "import random\n",
    "\n",
    "student_list_spring_2024=['rb0846', 'ac1964', 'hc0612', 'md0912', 'ad1198', 'md0894', 'md0825', 'vg0598', 'vg0433', 'mh1068', 'yj0173', 'pk0553', 'tk0411', 'srk0204', 'sk2922', 'sk2936', 'mk1302', 'mk1317', 'tk0412', 'vk0656', 'sm2985', 'mm2372', 'un0045', 'an0892', 'sn0913', 'gp0252', 'ap1484', 'mr1765', 'sr1385', 'sr1335', 'hs0665', 'ms2060', 'gt0217', 'nt0385', 'tv0186', 'sv1394', 'sv1752', 'sv1555', 'sy0594']\n",
    "groups = [[] for i in range(len(student_list_spring_2024) // 4)]\n",
    "added_students = []\n",
    "for grp in groups:\n",
    "    for i in range(4):\n",
    "        random_student = random.choice(student_list_spring_2024)\n",
    "        added_students.append(random_student)\n",
    "        student_list_spring_2024.remove(random_student)\n",
    "        grp.append(random_student)\n",
    "\n",
    "indx = 0\n",
    "while(len(student_list_spring_2024) > 0):\n",
    "    random_student = random.choice(student_list_spring_2024)\n",
    "    student_list_spring_2024.remove(random_student)\n",
    "    groups[indx].append(random_student)\n",
    "    indx += 1\n",
    "    \n",
    "print(f\"The random groups formed are : {groups}\")"
   ]
  },
  {
   "cell_type": "markdown",
   "metadata": {
    "id": "fmZ9vX20Qs3d"
   },
   "source": [
    "(16) Create a program that takes a positive integer 'n' as input and prints the count of even numbers from 1 to 'n'. Optimize the loop using the break statement."
   ]
  },
  {
   "cell_type": "code",
   "execution_count": 16,
   "metadata": {
    "id": "W8Jw6sWMQs3d"
   },
   "outputs": [
    {
     "name": "stdout",
     "output_type": "stream",
     "text": [
      "Enter the number :45\n",
      "The count of Even numbers from 1 to 45 is : 22\n"
     ]
    }
   ],
   "source": [
    "# write your answer here\n",
    "n = int(input(\"Enter the number :\"))\n",
    "count = 0\n",
    "for item in range(1, n + 1):\n",
    "    if(item % 2 == 0):\n",
    "        count += 1\n",
    "print(f\"The count of Even numbers from 1 to {n} is : {count}\")"
   ]
  },
  {
   "cell_type": "markdown",
   "metadata": {
    "id": "hvq4APMhQs3d"
   },
   "source": [
    "(17) Develop a Python function called 'count_vowels' that takes a string as input and returns the count of vowels (both lowercase and uppercase) present in the string, ignoring spaces and non-alphabetic characters."
   ]
  },
  {
   "cell_type": "code",
   "execution_count": 17,
   "metadata": {
    "id": "ZnoxhSglQs3d"
   },
   "outputs": [
    {
     "name": "stdout",
     "output_type": "stream",
     "text": [
      "Enter the String :hello hai\n",
      "The count of vowels in the given string - hello hai is : 4\n"
     ]
    }
   ],
   "source": [
    "# write your answer here\n",
    "def count_vowels(text):\n",
    "    return len([i for i in text if(i.lower() in 'aeiou')])\n",
    "\n",
    "text = input(\"Enter the String :\")\n",
    "print(f\"The count of vowels in the given string - {text} is : {count_vowels(text)}\")"
   ]
  },
  {
   "cell_type": "markdown",
   "metadata": {
    "id": "55FWoSJPVVM6"
   },
   "source": [
    "(18) Create a custom exception named ValueTooSmallError in Python. Write a program that takes user input for an age, and if the entered age is less than 18, raise the ValueTooSmallError with an appropriate error message."
   ]
  },
  {
   "cell_type": "code",
   "execution_count": 18,
   "metadata": {
    "id": "hwtr1wZmVX5A"
   },
   "outputs": [
    {
     "name": "stdout",
     "output_type": "stream",
     "text": [
      "Enter the Age :12\n"
     ]
    },
    {
     "ename": "ValueTooSmallError",
     "evalue": "Age value is lessthan 18",
     "output_type": "error",
     "traceback": [
      "\u001b[1;31m---------------------------------------------------------------------------\u001b[0m",
      "\u001b[1;31mValueTooSmallError\u001b[0m                        Traceback (most recent call last)",
      "Cell \u001b[1;32mIn[18], line 10\u001b[0m\n\u001b[0;32m      7\u001b[0m age \u001b[38;5;241m=\u001b[39m \u001b[38;5;28mint\u001b[39m(\u001b[38;5;28minput\u001b[39m(\u001b[38;5;124m\"\u001b[39m\u001b[38;5;124mEnter the Age :\u001b[39m\u001b[38;5;124m\"\u001b[39m))\n\u001b[0;32m      9\u001b[0m \u001b[38;5;28;01mif\u001b[39;00m(age \u001b[38;5;241m<\u001b[39m \u001b[38;5;241m18\u001b[39m):\n\u001b[1;32m---> 10\u001b[0m     \u001b[38;5;28;01mraise\u001b[39;00m ValueTooSmallError(\u001b[38;5;124m\"\u001b[39m\u001b[38;5;124mAge value is lessthan 18\u001b[39m\u001b[38;5;124m\"\u001b[39m)\n",
      "\u001b[1;31mValueTooSmallError\u001b[0m: Age value is lessthan 18"
     ]
    }
   ],
   "source": [
    "# write your answer here\n",
    "class ValueTooSmallError(Exception):\n",
    "    \n",
    "    def __init__(self, msg):\n",
    "        super().__init__(msg)\n",
    "\n",
    "age = int(input(\"Enter the Age :\"))\n",
    "\n",
    "if(age < 18):\n",
    "    raise ValueTooSmallError(\"Age value is lessthan 18\")"
   ]
  },
  {
   "cell_type": "markdown",
   "metadata": {
    "id": "Q9ecagcaVazW"
   },
   "source": [
    "(19) Develop a script that reverses a given string without using built-in reverse functions."
   ]
  },
  {
   "cell_type": "code",
   "execution_count": 19,
   "metadata": {
    "id": "gycgckoAVZjR"
   },
   "outputs": [
    {
     "name": "stdout",
     "output_type": "stream",
     "text": [
      "Enter the String :hello hai this is bhavyanth !\n",
      "The Reverse pattern (method 1) of the String - hello hai this is bhavyanth ! is ! htnayvahb si siht iah olleh\n",
      "The Reverse pattern (method 2) of the String - hello hai this is bhavyanth ! is ! htnayvahb si siht iah olleh\n"
     ]
    }
   ],
   "source": [
    "# write your answer here\n",
    "def reverse_string(text):\n",
    "    return text[::-1]\n",
    "\n",
    "def reverse_string1(text):\n",
    "    res = \"\"\n",
    "    for ch in text:\n",
    "        res = ch + res\n",
    "    return res\n",
    "\n",
    "text = input(\"Enter the String :\")\n",
    "print(f\"The Reverse pattern (method 1) of the String - {text} is {reverse_string(text)}\")\n",
    "print(f\"The Reverse pattern (method 2) of the String - {text} is {reverse_string1(text)}\")"
   ]
  },
  {
   "cell_type": "markdown",
   "metadata": {
    "id": "ZFG6RibifMLu"
   },
   "source": [
    "(20) Implement a Python script to generate a random password of a specified length."
   ]
  },
  {
   "cell_type": "code",
   "execution_count": 20,
   "metadata": {
    "id": "BFVrkEi9fNiD"
   },
   "outputs": [
    {
     "name": "stdout",
     "output_type": "stream",
     "text": [
      "Enter the Length of the Password :22\n",
      "The auto-generated password of length - 22 is zhWAaVdEHgaclMRyWqYMzc\n"
     ]
    }
   ],
   "source": [
    "# write your answer here\n",
    "import random\n",
    "\n",
    "def generate_password(length):\n",
    "    password = \"\"\n",
    "    allowed_chars = \"abcedefghijklmnopqrstuvwxyzABCDEFGHIJKLMNOPQRSTUVWXYZ@$#%!\"\n",
    "    return \"\".join([random.choice(allowed_chars) for i in range(length)])\n",
    "\n",
    "length = int(input(\"Enter the Length of the Password :\"))\n",
    "print(f\"The auto-generated password of length - {length} is {generate_password(length)}\")"
   ]
  },
  {
   "cell_type": "markdown",
   "metadata": {
    "id": "6SmvS7nSfbj8"
   },
   "source": [
    "# Try these questions:"
   ]
  },
  {
   "cell_type": "markdown",
   "metadata": {
    "id": "cboAr5pEWUf5"
   },
   "source": [
    "(21) Define a base class called 'Vehicle' with attributes make and model. Create a derived class Car that inherits from Vehicle and has an additional attribute 'num_doors'. Demonstrate an example of creating an instance of the 'Car' class and accessing its attributes."
   ]
  },
  {
   "cell_type": "code",
   "execution_count": 21,
   "metadata": {
    "id": "phs9gciMWWAW"
   },
   "outputs": [
    {
     "name": "stdout",
     "output_type": "stream",
     "text": [
      "{'make': 'Tata', 'model': 'Harrier', 'number of doors': 4}\n"
     ]
    }
   ],
   "source": [
    "# write your answer here\n",
    "class Vehicle():\n",
    "    \n",
    "    def __init__(self, make, model):\n",
    "        self.make = make\n",
    "        self. model = model\n",
    "\n",
    "class Car(Vehicle):\n",
    "    \n",
    "    def __init__(self, make, model, num_doors):\n",
    "        self.num_doors = num_doors\n",
    "        super().__init__(make, model)\n",
    "        \n",
    "    def __str__(self):\n",
    "        return {\n",
    "            \"make\" : self.make,\n",
    "            \"model\" : self.model,\n",
    "            \"number of doors\" : self.num_doors\n",
    "        }\n",
    "\n",
    "car = Car(\"Tata\", \"Harrier\", 4)\n",
    "print(car.__str__())"
   ]
  },
  {
   "cell_type": "markdown",
   "metadata": {
    "id": "J8HHefNtePwd"
   },
   "source": [
    "(22) Create a class called 'Shape' with a method calculate_area(). Implement two derived classes 'Circle' and 'Rectangle' that inherit from Shape and override the calculate_area() method. Demonstrate polymorphism by creating instances of both derived classes and calling the calculate_area() method."
   ]
  },
  {
   "cell_type": "code",
   "execution_count": 22,
   "metadata": {
    "id": "btnMmUZDeRhS"
   },
   "outputs": [
    {
     "name": "stdout",
     "output_type": "stream",
     "text": [
      "1256.0\n",
      "600\n"
     ]
    }
   ],
   "source": [
    "# write your answer here\n",
    "class Shape():\n",
    "    \n",
    "    def calculate_area(self):\n",
    "        print(\"Base class - Shape\")\n",
    "\n",
    "class Circle(Shape):\n",
    "    \n",
    "    def __init__(self, radius):\n",
    "        self.PI = 3.14\n",
    "        self.radius = radius\n",
    "    \n",
    "    def calculate_area(self):\n",
    "        return self.PI * (self.radius ** 2)\n",
    "\n",
    "class Rectangle(Shape):\n",
    "    \n",
    "    def __init__(self, length, breadth):\n",
    "        self.length = length\n",
    "        self.breadth = breadth\n",
    "    \n",
    "    def calculate_area(self):\n",
    "        return self.length * self.breadth\n",
    "\n",
    "circle = Circle(20)\n",
    "print(circle.calculate_area())\n",
    "\n",
    "rectangle = Rectangle(20, 30)\n",
    "print(rectangle.calculate_area())"
   ]
  },
  {
   "cell_type": "markdown",
   "metadata": {
    "id": "z0oqEAlTeMUS"
   },
   "source": [
    "(23) Write a Python program that prompts the user to enter two numbers and perform a division operation. Handle exceptions for both zero division and invalid input (non-numeric input). Display appropriate error messages for each type of exception and ensure the program does not crash due to these errors."
   ]
  },
  {
   "cell_type": "code",
   "execution_count": 24,
   "metadata": {
    "id": "yjdc1zM1eMAs"
   },
   "outputs": [
    {
     "name": "stdout",
     "output_type": "stream",
     "text": [
      "Enter number 1 :hello\n",
      "Check the Input Values Datatype - invalid literal for int() with base 10: 'hello'\n"
     ]
    }
   ],
   "source": [
    "# write your answer here\n",
    "try:\n",
    "    n1 = int(input(\"Enter number 1 :\"))\n",
    "    n2 = int(input(\"Enter number 2 :\"))\n",
    "    print(f\"n1 / n2 = {n1 / n2}\")\n",
    "except ValueError as te:\n",
    "    print(f\"Check the Input Values Datatype - {te}\")\n",
    "except ZeroDivisionError as zde:\n",
    "    print(f\"Check the denominator value - {zde}\")"
   ]
  },
  {
   "cell_type": "markdown",
   "metadata": {
    "id": "sZOhks1dXWEe"
   },
   "source": [
    "# Mandatory Question"
   ]
  },
  {
   "cell_type": "markdown",
   "metadata": {
    "id": "eqmHVEwaWhbV"
   },
   "source": [
    "**Important:**\n",
    "Reflecting on the first three lectures and the exercises you've completed, please provide feedback on your learning experience. Share your thoughts on whether the material covered was clear, the exercises were helpful, and if you feel more confident in applying Python programming concepts. Additionally, mention any specific areas where you would like more clarification or topics you would like to explore further in future lectures. Your feedback is valuable in shaping the course for an effective learning journey."
   ]
  },
  {
   "cell_type": "markdown",
   "metadata": {
    "id": "HlpXOT9wXQAd"
   },
   "source": [
    "Write your response here."
   ]
  },
  {
   "cell_type": "code",
   "execution_count": 25,
   "metadata": {
    "id": "Dq2aOZU7XIke"
   },
   "outputs": [
    {
     "name": "stdout",
     "output_type": "stream",
     "text": [
      "The lectures and the exercises that are included in this course are really good and useful !\n",
      "I would like to explore the concepts of Advanced Python in the future\n",
      "The guest lectures are really good and i got many insights from those sessions 😊\n",
      "Tried something different to answer 😊\n"
     ]
    }
   ],
   "source": [
    "print(\"The lectures and the exercises that are included in this course are really good and useful !\")\n",
    "print(\"I would like to explore the concepts of Advanced Python in the future\")\n",
    "print(\"The guest lectures are really good and i got many insights from those sessions 😊\")\n",
    "print(\"Tried something different to answer 😊\")"
   ]
  },
  {
   "cell_type": "code",
   "execution_count": null,
   "metadata": {},
   "outputs": [],
   "source": []
  }
 ],
 "metadata": {
  "colab": {
   "provenance": []
  },
  "kernelspec": {
   "display_name": "Python 3 (ipykernel)",
   "language": "python",
   "name": "python3"
  },
  "language_info": {
   "codemirror_mode": {
    "name": "ipython",
    "version": 3
   },
   "file_extension": ".py",
   "mimetype": "text/x-python",
   "name": "python",
   "nbconvert_exporter": "python",
   "pygments_lexer": "ipython3",
   "version": "3.10.9"
  }
 },
 "nbformat": 4,
 "nbformat_minor": 1
}
