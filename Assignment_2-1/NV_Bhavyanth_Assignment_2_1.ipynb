{
  "cells": [
    {
      "cell_type": "markdown",
      "metadata": {
        "id": "Ryk8D1Q4Wsrp"
      },
      "source": [
        "# **INFO5731 Assignment 2**\n",
        "\n",
        "In this assignment, you will work on gathering text data from an open data source via web scraping or API. Following this, you will need to clean the text data and perform syntactic analysis on the data. Follow the instructions carefully and design well-structured Python programs to address each question.\n",
        "\n",
        "**Expectations**:\n",
        "*   Use the provided .*ipynb* document to write your code & respond to the questions. Avoid generating a new file.\n",
        "*   Write complete answers and run all the cells before submission.\n",
        "*   Make sure the submission is \"clean\"; *i.e.*, no unnecessary code cells.\n",
        "*   Once finished, allow shared rights from top right corner (*see Canvas for details*).\n",
        "\n",
        "* **Make sure to submit the cleaned data CSV in the comment section - 10 points**\n",
        "\n",
        "**Total points**: 100\n",
        "\n",
        "**Deadline**: Wednesday, at 11:59 PM.\n",
        "\n",
        "**Late Submission will have a penalty of 10% reduction for each day after the deadline.**\n"
      ]
    },
    {
      "cell_type": "markdown",
      "metadata": {
        "id": "JkzR8cFAyGik"
      },
      "source": [
        "# Question 1 (40 points)\n",
        "\n",
        "Write a python program to collect text data from **either of the following sources** and save the data into a **csv file:**\n",
        "\n",
        "(1) Collect all the customer reviews of a product (you can choose any porduct) on amazon. [atleast 1000 reviews]\n",
        "\n",
        "(2) Collect the top 1000 User Reviews of a movie recently in 2023 or 2024 (you can choose any movie) from IMDB. [If one movie doesn't have sufficient reviews, collect reviews of atleast 2 or 3 movies]\n",
        "\n",
        "(3) Collect all the reviews of the top 1000 most popular software from G2 or Capterra.\n",
        "\n",
        "(4) Collect the **abstracts** of the top 10000 research papers by using the query \"machine learning\", \"data science\", \"artifical intelligence\", or \"information extraction\" from Semantic Scholar.\n",
        "\n",
        "(5) Collect all the information of the 904 narrators in the Densho Digital Repository.\n"
      ]
    },
    {
      "cell_type": "code",
      "execution_count": null,
      "metadata": {
        "id": "cqokaD5tcEsc"
      },
      "outputs": [],
      "source": [
        "import requests\n",
        "from bs4 import BeautifulSoup\n",
        "from urllib.request import urlopen, Request\n",
        "import pandas as pd"
      ]
    },
    {
      "cell_type": "code",
      "execution_count": null,
      "metadata": {
        "id": "q3SJgOVmcEsd"
      },
      "outputs": [],
      "source": [
        "def get_response(request_url):\n",
        "    headers =({'User-Agent':'Mozilla/5.0 (Windows NT 10.0; Win64; x64) AppleWebKit/537.36 (KHTML, like Gecko) Chrome/90.0.4430.212 Safari/537.36', 'Accept-Language': 'en-US, en;q=0.5'})\n",
        "    return requests.get(request_url, headers = headers)"
      ]
    },
    {
      "cell_type": "code",
      "execution_count": null,
      "metadata": {
        "id": "WVDvMN6ucEse"
      },
      "outputs": [],
      "source": [
        "def get_elements_by_attributes(source_data, tag, attributes):\n",
        "    scrapped_data = BeautifulSoup(source_data, \"html.parser\")\n",
        "    return scrapped_data.find_all(tag, attributes)"
      ]
    },
    {
      "cell_type": "code",
      "execution_count": null,
      "metadata": {
        "id": "tjumSJCycEse"
      },
      "outputs": [],
      "source": [
        "def get_elements_by_tag(source_data, tag):\n",
        "    scrapped_data = BeautifulSoup(source_data, \"html.parser\")\n",
        "    return scrapped_data.find_all(tag)"
      ]
    },
    {
      "cell_type": "code",
      "execution_count": null,
      "metadata": {
        "id": "jDyTKYs-yGit"
      },
      "outputs": [],
      "source": [
        "# Your code here\n",
        "# A) Amazon Product - https://www.amazon.com/Apple-MacBook-13-inch-256GB-Storage/\n",
        "# Using webscrapping the data is being fetched and stored\n",
        "# URL - https://www.amazon.com/Apple-MacBook-13-inch-256GB-Storage/product-reviews/B08N5M7S6K/ref=cm_cr_getr_d_paging_btm_prev_1?pageNumber=1\n",
        "\n",
        "product_url = \"https://www.amazon.com/Apple-MacBook-13-inch-256GB-Storage/product-reviews/B08N5M7S6K/ref=cm_cr_getr_d_paging_btm_prev_{}?pageNumber={}\"\n",
        "\n",
        "nextPage, current_page = True, 1\n",
        "reviews = []\n",
        "while(nextPage and len(reviews) < 1000) :\n",
        "    response = get_response(product_url).text\n",
        "    page_content = BeautifulSoup(response.content, \"html.parser\")\n",
        "    print(page_content)\n",
        "    reviews = page_content.find_all(\"span\", {\"data-hook\" : \"review-body\"})\n",
        "    print(len(reviews))"
      ]
    },
    {
      "cell_type": "code",
      "execution_count": null,
      "metadata": {
        "id": "ug0TSd5JcEsf"
      },
      "outputs": [],
      "source": [
        "movie_review_url = \"https://www.imdb.com/title/tt13751694/reviews?ref_=tt_urv\"\n",
        "reviews = []\n",
        "while(len(reviews) < 1000):\n",
        "    response_data = get_response(movie_review_url).text\n",
        "    elements = get_elements_by_attributes(response_data, \"div\", {\"class\" : \"text show-more__control\"})\n",
        "    pagination_key = get_elements_by_attributes(response_data, 'div',{'class' : 'load-more-data'})[0][\"data-key\"]\n",
        "    reviews.extend([{\"s.no\" : len(reviews) + 1, \"review\" : i.text} for i, j in zip(elements, range(1, len(elements) + 1))])\n",
        "    movie_review_url = \"https://www.imdb.com/title/tt13751694/reviews/_ajax?&paginationKey=\"+pagination_key\n",
        "movie_reviews_df = pd.json_normalize(reviews)\n",
        "movie_reviews_df.to_csv(\"movie_reviews.csv\")"
      ]
    },
    {
      "cell_type": "code",
      "execution_count": null,
      "metadata": {
        "id": "6xmPZF4RcEsf"
      },
      "outputs": [],
      "source": [
        "capterra_url = \"https://www.capterra.com/customer-relationship-management-software/?sort=most_reviews?page={}\"\n",
        "product, page = 0, 2\n",
        "while(product < 1000):\n",
        "    print(capterra_url.format(page))\n",
        "    response = get_response(capterra_url.format(page)).text\n",
        "    print(response)\n",
        "    products = get_elements_by_attributes(response, \"a\", {\"data-evt-name\" : \"engagement_product_click\"})\n",
        "    print(products)\n",
        "    break"
      ]
    },
    {
      "cell_type": "code",
      "execution_count": null,
      "metadata": {
        "id": "Ye5S1TJ2cEsf"
      },
      "outputs": [],
      "source": [
        "import json\n",
        "\n",
        "semantic_scholar_url = \"https://api.semanticscholar.org/graph/v1/paper/search?query={}&offset={}&limit={}&fields=abstract\"\n",
        "keyword = \"artifical intelligence\"\n",
        "abstracts, offset = [], 0\n",
        "while(len(abstracts) < 10000):\n",
        "    print(semantic_scholar_url.format(keyword, offset, 100))\n",
        "    response = get_response(semantic_scholar_url.format(keyword, offset, 100)).text\n",
        "    if(\"data\" in response):\n",
        "        offset += 100\n",
        "        abstracts.extend(json.loads(response).get(\"data\", []))\n",
        "    print(len(abstracts))\n",
        "print(abstracts)"
      ]
    },
    {
      "cell_type": "code",
      "execution_count": null,
      "metadata": {
        "id": "TEelXCBscEsg"
      },
      "outputs": [],
      "source": [
        "ddr_url = \"https://ddr.densho.org/narrators/{}/\"\n",
        "infos, pages = [], 0\n",
        "while(pages < 904):\n",
        "    response = get_response(ddr_url.format(page))\n",
        "    if(response.status_code != 200):\n",
        "        continue\n",
        "    infos.append({\"s.no\" : page, \"info\" : get_elements_by_tag(response.text, \"p\")[0].text})\n",
        "    pages += 1\n",
        "narrators_df = pd.json_normalize(infos)\n",
        "narrators_df.to_csv(\"narrators_info.csv\")"
      ]
    },
    {
      "cell_type": "markdown",
      "metadata": {
        "id": "90_NR8c5XGWc"
      },
      "source": [
        "# Question 2 (30 points)\n",
        "\n",
        "Write a python program to **clean the text data** you collected in the previous question and save the clean data in a new column in the csv file. The data cleaning steps include: [Code and output is required for each part]\n",
        "\n",
        "(1) Remove noise, such as special characters and punctuations.\n",
        "\n",
        "(2) Remove numbers.\n",
        "\n",
        "(3) Remove stopwords by using the stopwords list.\n",
        "\n",
        "(4) Lowercase all texts\n",
        "\n",
        "(5) Stemming.\n",
        "\n",
        "(6) Lemmatization."
      ]
    },
    {
      "cell_type": "code",
      "execution_count": null,
      "metadata": {
        "id": "5QX6bJjGWXY9"
      },
      "outputs": [],
      "source": [
        "# Write code for each of the sub parts with proper comments.\n",
        "\n",
        "import re\n",
        "from nltk.corpus import stopwords\n",
        "from nltk.stem import PorterStemmer, WordNetLemmatizer\n",
        "import nltk\n",
        "\n",
        "nltk.download('stopwords')\n",
        "nltk.download('wordnet')\n",
        "nltk.download('punkt')\n",
        "nltk.download('omw-1.4')\n",
        "\n",
        "class Processor:\n",
        "\n",
        "    ps = PorterStemmer()\n",
        "    ltzr = WordNetLemmatizer()\n",
        "    stopwords = set(stopwords.words('english'))\n",
        "\n",
        "    @classmethod\n",
        "    def clean_text(cls, data):\n",
        "\n",
        "        # Remove special characters\n",
        "        data = re.sub(r'[^\\w\\s]', '', data)\n",
        "\n",
        "        # Remove Digits\n",
        "        data = re.sub(r'\\d+', '', data)\n",
        "\n",
        "        # Tokenization\n",
        "        tokens = nltk.word_tokenize(data.lower())\n",
        "\n",
        "        # Stopwords Removal\n",
        "        tokens = [token for token in tokens if token not in cls.stopwords]\n",
        "\n",
        "        # Stemming\n",
        "        tokens = [cls.ps.stem(token) for token in tokens]\n",
        "\n",
        "        # Lemmitization\n",
        "        tokens = [cls.ltzr.lemmatize(token) for token in tokens]\n",
        "\n",
        "        # Joining the tokens together and returning it.\n",
        "        return ' '.join(tokens)\n",
        "\n",
        "    @classmethod\n",
        "    def process_data(cls, file_name):\n",
        "        df = pd.read_csv(file_name)\n",
        "        print(f\"Read file - {file_name}\")\n",
        "        columns = df.columns\n",
        "        new_col = f\"Cleaned_{columns[2]}\"\n",
        "        df[new_col] = df[columns[2]].apply(cls.clean_text)\n",
        "        df.to_csv(f\"Cleaned_{file_name}\")\n",
        "\n",
        "file_names = [\"movie_reviews.csv\", \"narrators_info.csv\"]\n",
        "for file_name in file_names:\n",
        "    Processor.process_data(file_name)"
      ]
    },
    {
      "cell_type": "markdown",
      "metadata": {
        "id": "1F_PZdH9Sh49"
      },
      "source": [
        "# Question 3 (30 points)\n",
        "\n",
        "Write a python program to **conduct syntax and structure analysis of the clean text** you just saved above. The syntax and structure analysis includes:\n",
        "\n",
        "(1) **Parts of Speech (POS) Tagging:** Tag Parts of Speech of each word in the text, and calculate the total number of N(oun), V(erb), Adj(ective), Adv(erb), respectively.\n",
        "\n",
        "(2) **Constituency Parsing and Dependency Parsing:** print out the constituency parsing trees and dependency parsing trees of all the sentences. Using one sentence as an example to explain your understanding about the constituency parsing tree and dependency parsing tree.\n",
        "\n",
        "(3) **Named Entity Recognition:** Extract all the entities such as person names, organizations, locations, product names, and date from the clean texts, calculate the count of each entity."
      ]
    },
    {
      "cell_type": "code",
      "execution_count": null,
      "metadata": {
        "id": "BxCuRNtdcEsi"
      },
      "outputs": [],
      "source": [
        "! pip install stanfordnlp"
      ]
    },
    {
      "cell_type": "code",
      "execution_count": null,
      "metadata": {
        "id": "Y0oOSlsOS0cq"
      },
      "outputs": [],
      "source": [
        "# Your code here\n",
        "import stanfordnlp\n",
        "\n",
        "stanfordnlp.download('en', force=True)\n",
        "\n",
        "nlp = stanfordnlp.Pipeline()\n",
        "\n",
        "def display_constituency_tree(sentence):\n",
        "\n",
        "    parsed = nlp(sentence)\n",
        "    tree_str = parsed.sentences[0].parse_tree\n",
        "    tree = Tree.fromstring(tree_str)\n",
        "    tree.pretty_print()\n",
        "\n",
        "def display_dependency_tree(sentence):\n",
        "\n",
        "    parsed = nlp(sentence)\n",
        "    print(parsed.sentences[0].dependencies)\n",
        "\n",
        "display_constituency_tree(\"anim classic bollywood garbagerif misogyni senseless plot twist film lack cohes storylin drown sea unnecessari turn what truli entertain sift suspici rate becom game spot paid botgener review make detect work enjoy endur movi realm bollywood disappoint movi serv remind challeng bollywood filmmak lacklust plot abund unnecessari twist distress dose misogyni overshadow cinemat potenti\")\n",
        "display_dependency_tree(\"print out the constituency parsing trees and dependency parsing trees of all the sentences. Using one sentence as an example to explain your understanding about the constituency parsing tree and dependency parsing tree.\")"
      ]
    },
    {
      "cell_type": "markdown",
      "metadata": {
        "id": "q8BFCvWp32cf"
      },
      "source": [
        "# Mandatory Question\n",
        "\n",
        "Provide your thoughts on the assignment. What did you find challenging, and what aspects did you enjoy? Your opinion on the provided time to complete the assignment."
      ]
    },
    {
      "cell_type": "code",
      "execution_count": null,
      "metadata": {
        "id": "_e557s2w4BpK"
      },
      "outputs": [],
      "source": [
        "# Write your response below"
      ]
    }
  ],
  "metadata": {
    "colab": {
      "provenance": [],
      "toc_visible": true
    },
    "kernelspec": {
      "display_name": "Python 3 (ipykernel)",
      "language": "python",
      "name": "python3"
    },
    "language_info": {
      "codemirror_mode": {
        "name": "ipython",
        "version": 3
      },
      "file_extension": ".py",
      "mimetype": "text/x-python",
      "name": "python",
      "nbconvert_exporter": "python",
      "pygments_lexer": "ipython3",
      "version": "3.10.9"
    }
  },
  "nbformat": 4,
  "nbformat_minor": 0
}